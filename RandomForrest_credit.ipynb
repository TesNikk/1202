{
  "nbformat": 4,
  "nbformat_minor": 0,
  "metadata": {
    "colab": {
      "provenance": [],
      "authorship_tag": "ABX9TyOnL8aKuofG6KrVZe0gcrkx",
      "include_colab_link": true
    },
    "kernelspec": {
      "name": "python3",
      "display_name": "Python 3"
    },
    "language_info": {
      "name": "python"
    }
  },
  "cells": [
    {
      "cell_type": "markdown",
      "metadata": {
        "id": "view-in-github",
        "colab_type": "text"
      },
      "source": [
        "<a href=\"https://colab.research.google.com/github/TesNikk/1202/blob/main/RandomForrest_credit.ipynb\" target=\"_parent\"><img src=\"https://colab.research.google.com/assets/colab-badge.svg\" alt=\"Open In Colab\"/></a>"
      ]
    },
    {
      "cell_type": "code",
      "execution_count": null,
      "metadata": {
        "colab": {
          "base_uri": "https://localhost:8080/"
        },
        "id": "L7MNJl9Iahbu",
        "outputId": "549b3ba4-27b7-46e1-9c05-b7f5d372e6d9"
      },
      "outputs": [
        {
          "output_type": "stream",
          "name": "stdout",
          "text": [
            "[[349   0]\n",
            " [  2  49]]\n",
            "0.995\n"
          ]
        }
      ],
      "source": [
        "import pandas as pd\n",
        "from sklearn.ensemble import RandomForestClassifier\n",
        "from sklearn.model_selection import train_test_split\n",
        "from sklearn.metrics import confusion_matrix\n",
        "from sklearn.metrics import accuracy_score\n",
        "\n",
        "# Logistic regression accuracy: 93%\n",
        "# we do better with knn: 97.5% !!!!!!!!\n",
        "# 84% simple kNN without normalizing the dataset\n",
        "# we can achieve ~ 99% with random forests\n",
        "\n",
        "credit_data = pd.read_csv(\"credit_data.csv\")\n",
        "\n",
        "#print(credit_data.head())\n",
        "#print(credit_data.describe())\n",
        "#print(credit_data.corr())\n",
        "\n",
        "features = credit_data[[\"income\",\"age\",\"loan\"]]\n",
        "targets = credit_data.default\n",
        "\n",
        "feature_train, feature_test, target_train, target_test = train_test_split(features, targets, test_size=.2)\n",
        "\n",
        "model = RandomForestClassifier(n_estimators=1000, max_features='sqrt')\n",
        "fitted_model = model.fit(feature_train, target_train)\n",
        "predictions = fitted_model.predict(feature_test)\n",
        "\n",
        "print(confusion_matrix(target_test, predictions))\n",
        "print(accuracy_score(target_test, predictions))"
      ]
    }
  ]
}